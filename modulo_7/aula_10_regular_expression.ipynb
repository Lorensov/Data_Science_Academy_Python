{
 "cells": [
  {
   "cell_type": "code",
   "execution_count": 1,
   "metadata": {},
   "outputs": [],
   "source": [
    "import re"
   ]
  },
  {
   "cell_type": "code",
   "execution_count": 6,
   "metadata": {},
   "outputs": [],
   "source": [
    "lista_pesquisa = ['informações','negócios']"
   ]
  },
  {
   "cell_type": "code",
   "execution_count": 7,
   "metadata": {},
   "outputs": [],
   "source": [
    "texto = 'Existem muitos desafios para o Big Data. O primeiro deles é a coleta dos dados, pois fala-se aqui de '\\\n",
    "'enormes quantidades sendo geradas em uma taxa maior do que um servidor comum seria capaz de processar e armazenar. '\\\n",
    "'O segundo desafio é justamente o de processar essas informações. Com elas então distribuídas, a aplicação deve ser '\\\n",
    "'capaz de consumir partes das informações e gerar pequenas quantidades de dados processados, que serão calculados em '\\\n",
    "'conjunto depois para criar o resultado final. Outro desafio é a exibição dos resultados, de forma que as informações '\\\n",
    "'estejam disponíveis de forma clara para os tomadores de decisão.'"
   ]
  },
  {
   "cell_type": "code",
   "execution_count": 8,
   "metadata": {},
   "outputs": [
    {
     "name": "stdout",
     "output_type": "stream",
     "text": [
      "Buscando por \"informações\" em: \n",
      "\n",
      "\"Existem muitos desafios para o Big Data. O primeiro deles é a coleta dos dados, pois fala-se aqui de enormes quantidades sendo geradas em uma taxa maior do que um servidor comum seria capaz de processar e armazenar. O segundo desafio é justamente o de processar essas informações. Com elas então distribuídas, a aplicação deve ser capaz de consumir partes das informações e gerar pequenas quantidades de dados processados, que serão calculados em conjunto depois para criar o resultado final. Outro desafio é a exibição dos resultados, de forma que as informações estejam disponíveis de forma clara para os tomadores de decisão.\"\n",
      "\n",
      "\n",
      "Palavra encontrada. \n",
      "\n",
      "\n",
      "\n",
      "Buscando por \"negócios\" em: \n",
      "\n",
      "\"Existem muitos desafios para o Big Data. O primeiro deles é a coleta dos dados, pois fala-se aqui de enormes quantidades sendo geradas em uma taxa maior do que um servidor comum seria capaz de processar e armazenar. O segundo desafio é justamente o de processar essas informações. Com elas então distribuídas, a aplicação deve ser capaz de consumir partes das informações e gerar pequenas quantidades de dados processados, que serão calculados em conjunto depois para criar o resultado final. Outro desafio é a exibição dos resultados, de forma que as informações estejam disponíveis de forma clara para os tomadores de decisão.\"\n",
      "\n",
      "\n",
      "Palavra nao encontrada \n",
      "\n",
      "\n",
      "\n"
     ]
    }
   ],
   "source": [
    "for item in lista_pesquisa:\n",
    "    print('Buscando por \"%s\" em: \\n\\n\"%s\"' %(item,texto))\n",
    "    \n",
    "    if re.search(item, texto):\n",
    "        print('\\n')\n",
    "        print('Palavra encontrada. \\n')\n",
    "        print('\\n')\n",
    "    else:\n",
    "        print('\\n')\n",
    "        print('Palavra nao encontrada \\n')\n",
    "        print('\\n')"
   ]
  },
  {
   "cell_type": "code",
   "execution_count": 9,
   "metadata": {},
   "outputs": [],
   "source": [
    "split_term = '@'"
   ]
  },
  {
   "cell_type": "code",
   "execution_count": 10,
   "metadata": {},
   "outputs": [],
   "source": [
    "frase = 'Qual o dominio de alguem com o e-mail: aluno@gmail.com'"
   ]
  },
  {
   "cell_type": "code",
   "execution_count": 11,
   "metadata": {},
   "outputs": [
    {
     "data": {
      "text/plain": [
       "['Qual o dominio de alguem com o e-mail: aluno', 'gmail.com']"
      ]
     },
     "execution_count": 11,
     "metadata": {},
     "output_type": "execute_result"
    }
   ],
   "source": [
    "re.split(split_term,frase)"
   ]
  },
  {
   "cell_type": "code",
   "execution_count": 12,
   "metadata": {},
   "outputs": [],
   "source": [
    "def encontra_padrao(lista,frase):\n",
    "    for item in lista:\n",
    "        print('Pesquisando na frase: %r'%item)\n",
    "        print(re.findall(item,frase))\n",
    "        print('\\n')"
   ]
  },
  {
   "cell_type": "code",
   "execution_count": 26,
   "metadata": {},
   "outputs": [
    {
     "name": "stdout",
     "output_type": "stream",
     "text": [
      "Pesquisando na frase: 'zL*'\n",
      "['zL', 'zL', 'z', 'z', 'zLLL', 'zLLL', 'zLLL', 'zL', 'z', 'z', 'z', 'z', 'z', 'z', 'zLLLL']\n",
      "\n",
      "\n",
      "Pesquisando na frase: 'zL+'\n",
      "['zL', 'zL', 'zLLL', 'zLLL', 'zLLL', 'zL', 'zLLLL']\n",
      "\n",
      "\n",
      "Pesquisando na frase: 'zL?'\n",
      "['zL', 'zL', 'z', 'z', 'zL', 'zL', 'zL', 'zL', 'z', 'z', 'z', 'z', 'z', 'z', 'zL']\n",
      "\n",
      "\n",
      "Pesquisando na frase: 'zL{3}'\n",
      "['zLLL', 'zLLL', 'zLLL', 'zLLL']\n",
      "\n",
      "\n",
      "Pesquisando na frase: 'zL{2,3}'\n",
      "['zLLL', 'zLLL', 'zLLL', 'zLLL']\n",
      "\n",
      "\n"
     ]
    }
   ],
   "source": [
    "frase_padrao = 'zLzL..zzzLLL...zLLLzLLL...LzLz...dzzzzz...zLLLL'\n",
    "\n",
    "lista_padroes = [ 'zL*',       # z seguido de zero ou mais L\n",
    "                  'zL+',       # z seguido por um ou mais L\n",
    "                  'zL?',       # z seguido por zero ou um L\n",
    "                  'zL{3}',     # z seguido por três L\n",
    "                  'zL{2,3}',   # z seguido por dois a três L\n",
    "                ]\n",
    "\n",
    "encontra_padrao(lista_padroes,frase_padrao)"
   ]
  },
  {
   "cell_type": "code",
   "execution_count": 17,
   "metadata": {},
   "outputs": [],
   "source": [
    "frase = 'Esta é uma string com pontuação. Isso pode ser um problema quando fazemos mineração de dados em busca '\\\n",
    "        'de padrões! Não seria melhor retirar os sinais ao fim de cada frase?'"
   ]
  },
  {
   "cell_type": "code",
   "execution_count": 19,
   "metadata": {},
   "outputs": [
    {
     "data": {
      "text/plain": [
       "['Esta',\n",
       " 'é',\n",
       " 'uma',\n",
       " 'string',\n",
       " 'com',\n",
       " 'pontuação',\n",
       " 'Isso',\n",
       " 'pode',\n",
       " 'ser',\n",
       " 'um',\n",
       " 'problema',\n",
       " 'quando',\n",
       " 'fazemos',\n",
       " 'mineração',\n",
       " 'de',\n",
       " 'dados',\n",
       " 'em',\n",
       " 'busca',\n",
       " 'de',\n",
       " 'padrões',\n",
       " 'Não',\n",
       " 'seria',\n",
       " 'melhor',\n",
       " 'retirar',\n",
       " 'os',\n",
       " 'sinais',\n",
       " 'ao',\n",
       " 'fim',\n",
       " 'de',\n",
       " 'cada',\n",
       " 'frase']"
      ]
     },
     "execution_count": 19,
     "metadata": {},
     "output_type": "execute_result"
    }
   ],
   "source": [
    "re.findall('[^!.? ]+',frase)"
   ]
  },
  {
   "cell_type": "code",
   "execution_count": 27,
   "metadata": {},
   "outputs": [
    {
     "name": "stdout",
     "output_type": "stream",
     "text": [
      "Pesquisando na frase: '[a-z]+'\n",
      "['sta', 'uma', 'frase', 'de', 'exemplo', 'amos', 'verificar', 'quais', 'padr', 'es', 'ser', 'o', 'encontrados']\n",
      "\n",
      "\n",
      "Pesquisando na frase: '[A-Z]+'\n",
      "['E', 'V']\n",
      "\n",
      "\n",
      "Pesquisando na frase: '[a-zA-Z]+'\n",
      "['Esta', 'uma', 'frase', 'de', 'exemplo', 'Vamos', 'verificar', 'quais', 'padr', 'es', 'ser', 'o', 'encontrados']\n",
      "\n",
      "\n",
      "Pesquisando na frase: '[A-Z][a-z]+'\n",
      "['Esta', 'Vamos']\n",
      "\n",
      "\n"
     ]
    }
   ],
   "source": [
    "\n",
    "frase = 'Esta é uma frase de exemplo. Vamos verificar quais padrões serão encontrados.'\n",
    "\n",
    "lista_padroes = [ '[a-z]+',      # sequência de letras minúsculas\n",
    "                  '[A-Z]+',      # sequência de letras maiúsculas\n",
    "                  '[a-zA-Z]+',   # sequência de letras minúsculas e maiúsculas\n",
    "                  '[A-Z][a-z]+'] # uma letra maiúscula, seguida de uma letra minúscula\n",
    "\n",
    "encontra_padrao(lista_padroes, frase)"
   ]
  },
  {
   "cell_type": "code",
   "execution_count": 28,
   "metadata": {},
   "outputs": [
    {
     "data": {
      "text/plain": [
       "'\\n\\\\d busca digito\\n\\\\D busca nao digito\\n\\\\s espaco tab novalinha\\n\\\\S nao espaco\\n\\\\w alfa numerico\\n\\\\W nao alfanumerico\\n'"
      ]
     },
     "execution_count": 28,
     "metadata": {},
     "output_type": "execute_result"
    }
   ],
   "source": [
    "#escape codes\n",
    "\"\"\"\n",
    "\\d busca digito\n",
    "\\D busca nao digito\n",
    "\\s espaco tab novalinha\n",
    "\\S nao espaco\n",
    "\\w alfa numerico\n",
    "\\W nao alfanumerico\n",
    "\"\"\""
   ]
  },
  {
   "cell_type": "code",
   "execution_count": 24,
   "metadata": {},
   "outputs": [
    {
     "data": {
      "text/plain": [
       "'\\\\b'"
      ]
     },
     "execution_count": 24,
     "metadata": {},
     "output_type": "execute_result"
    }
   ],
   "source": [
    "r'\\b'"
   ]
  },
  {
   "cell_type": "code",
   "execution_count": 25,
   "metadata": {},
   "outputs": [
    {
     "data": {
      "text/plain": [
       "'\\x08'"
      ]
     },
     "execution_count": 25,
     "metadata": {},
     "output_type": "execute_result"
    }
   ],
   "source": [
    "'\\b'"
   ]
  },
  {
   "cell_type": "code",
   "execution_count": 29,
   "metadata": {},
   "outputs": [
    {
     "name": "stdout",
     "output_type": "stream",
     "text": [
      "Pesquisando na frase: '\\\\d+'\n",
      "['1287']\n",
      "\n",
      "\n",
      "Pesquisando na frase: '\\\\D+'\n",
      "['Esta é uma string com alguns números, como ', ' e um símbolo #hashtag']\n",
      "\n",
      "\n",
      "Pesquisando na frase: '\\\\s+'\n",
      "[' ', ' ', ' ', ' ', ' ', ' ', ' ', ' ', ' ', ' ', ' ', ' ']\n",
      "\n",
      "\n",
      "Pesquisando na frase: '\\\\S+'\n",
      "['Esta', 'é', 'uma', 'string', 'com', 'alguns', 'números,', 'como', '1287', 'e', 'um', 'símbolo', '#hashtag']\n",
      "\n",
      "\n",
      "Pesquisando na frase: '\\\\w+'\n",
      "['Esta', 'é', 'uma', 'string', 'com', 'alguns', 'números', 'como', '1287', 'e', 'um', 'símbolo', 'hashtag']\n",
      "\n",
      "\n",
      "Pesquisando na frase: '\\\\W+'\n",
      "[' ', ' ', ' ', ' ', ' ', ' ', ', ', ' ', ' ', ' ', ' ', ' #']\n",
      "\n",
      "\n"
     ]
    }
   ],
   "source": [
    "frase = 'Esta é uma string com alguns números, como 1287 e um símbolo #hashtag'\n",
    "lista_padroes = [r'\\d+', #sequencia de digitos\n",
    "                r'\\D+', #sequencia de nao-digitos\n",
    "                r'\\s+', #sequencia de espacos\n",
    "                r'\\S+', #sequencia de nao-espacos\n",
    "                r'\\w+', #caracteres alfanumericos\n",
    "                r'\\W+' #caracteres nao alfanumericos\n",
    "                ]\n",
    "\n",
    "encontra_padrao (lista_padroes, frase)"
   ]
  },
  {
   "cell_type": "code",
   "execution_count": null,
   "metadata": {},
   "outputs": [],
   "source": []
  }
 ],
 "metadata": {
  "kernelspec": {
   "display_name": "Python 3",
   "language": "python",
   "name": "python3"
  },
  "language_info": {
   "codemirror_mode": {
    "name": "ipython",
    "version": 3
   },
   "file_extension": ".py",
   "mimetype": "text/x-python",
   "name": "python",
   "nbconvert_exporter": "python",
   "pygments_lexer": "ipython3",
   "version": "3.6.3"
  }
 },
 "nbformat": 4,
 "nbformat_minor": 2
}
